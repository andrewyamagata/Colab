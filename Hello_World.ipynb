{
  "nbformat": 4,
  "nbformat_minor": 0,
  "metadata": {
    "colab": {
      "name": "Hello World.ipynb",
      "provenance": [],
      "authorship_tag": "ABX9TyOrUGCGRHI4yg4zVjGlNDnz",
      "include_colab_link": true
    },
    "kernelspec": {
      "name": "python3",
      "display_name": "Python 3"
    }
  },
  "cells": [
    {
      "cell_type": "markdown",
      "metadata": {
        "id": "view-in-github",
        "colab_type": "text"
      },
      "source": [
        "<a href=\"https://colab.research.google.com/github/andrewyamagata/Colab/blob/main/Hello_World.ipynb\" target=\"_parent\"><img src=\"https://colab.research.google.com/assets/colab-badge.svg\" alt=\"Open In Colab\"/></a>"
      ]
    },
    {
      "cell_type": "code",
      "metadata": {
        "colab": {
          "base_uri": "https://localhost:8080/"
        },
        "id": "rbZ1nYKNLa8J",
        "outputId": "70ee72b2-8f2c-43cf-a9fa-297807421bca"
      },
      "source": [
        "print(\"Hello World!\")"
      ],
      "execution_count": 1,
      "outputs": [
        {
          "output_type": "stream",
          "text": [
            "Hello World!\n"
          ],
          "name": "stdout"
        }
      ]
    },
    {
      "cell_type": "code",
      "metadata": {
        "colab": {
          "base_uri": "https://localhost:8080/"
        },
        "id": "SclimNBmSNzj",
        "outputId": "b88e82c8-d967-4c97-c739-ac6aa28ec0b6"
      },
      "source": [
        "disciplina=\"Formação Profissional em Computação\"\r\n",
        "qtdSemanas = 8\r\n",
        "nota1 = 9.0\r\n",
        "nota2 = 7.0\r\n",
        "media = (nota1+nota2)/2\r\n",
        "media"
      ],
      "execution_count": 2,
      "outputs": [
        {
          "output_type": "execute_result",
          "data": {
            "text/plain": [
              "8.0"
            ]
          },
          "metadata": {
            "tags": []
          },
          "execution_count": 2
        }
      ]
    },
    {
      "cell_type": "code",
      "metadata": {
        "colab": {
          "base_uri": "https://localhost:8080/"
        },
        "id": "mAr26-nqSgQ5",
        "outputId": "29958834-bfcc-4810-d6e0-87342b237789"
      },
      "source": [
        "print(nota1)"
      ],
      "execution_count": 3,
      "outputs": [
        {
          "output_type": "stream",
          "text": [
            "9.0\n"
          ],
          "name": "stdout"
        }
      ]
    },
    {
      "cell_type": "code",
      "metadata": {
        "id": "RxX6BJKySos5"
      },
      "source": [
        "def media_notas(nota1,nota2):\r\n",
        "  return (nota1+nota2)/2"
      ],
      "execution_count": 4,
      "outputs": []
    },
    {
      "cell_type": "code",
      "metadata": {
        "colab": {
          "base_uri": "https://localhost:8080/"
        },
        "id": "o166iZtgSz8D",
        "outputId": "e7bc38d0-3dcc-4db5-ccaa-9773230cfc30"
      },
      "source": [
        "media_notas(4,5)"
      ],
      "execution_count": 6,
      "outputs": [
        {
          "output_type": "execute_result",
          "data": {
            "text/plain": [
              "4.5"
            ]
          },
          "metadata": {
            "tags": []
          },
          "execution_count": 6
        }
      ]
    },
    {
      "cell_type": "code",
      "metadata": {
        "id": "_1lJmac4VmOq"
      },
      "source": [
        "def exercicio1():\r\n",
        "    palavra=input(\"Digite uma palavra: \")\r\n",
        "    lista=list(palavra)\r\n",
        "    segredo=\"\"\r\n",
        "    for x in lista:\r\n",
        "        if (x=='z'):segredo+='a'\r\n",
        "        elif (x=='Z'):segredo+='A'\r\n",
        "        else: segredo+=chr(ord(x)+1)\r\n",
        "    print(segredo)"
      ],
      "execution_count": 11,
      "outputs": []
    },
    {
      "cell_type": "code",
      "metadata": {
        "colab": {
          "base_uri": "https://localhost:8080/"
        },
        "id": "0sOhuY8mWVoq",
        "outputId": "cc067571-54de-4cf7-95ce-d611479303fb"
      },
      "source": [
        "exercicio1()"
      ],
      "execution_count": 15,
      "outputs": [
        {
          "output_type": "stream",
          "text": [
            "Digite uma palavra: Andrew\n",
            "Boesfx\n"
          ],
          "name": "stdout"
        }
      ]
    },
    {
      "cell_type": "code",
      "metadata": {
        "id": "55smJjm5Xl0y"
      },
      "source": [
        "lista_notas = [10,5,8]"
      ],
      "execution_count": 16,
      "outputs": []
    },
    {
      "cell_type": "code",
      "metadata": {
        "colab": {
          "base_uri": "https://localhost:8080/"
        },
        "id": "ITdf5tOmXrdq",
        "outputId": "0e814c51-2dfa-424d-c720-148592befa50"
      },
      "source": [
        "lista_notas[0]"
      ],
      "execution_count": 17,
      "outputs": [
        {
          "output_type": "execute_result",
          "data": {
            "text/plain": [
              "10"
            ]
          },
          "metadata": {
            "tags": []
          },
          "execution_count": 17
        }
      ]
    },
    {
      "cell_type": "code",
      "metadata": {
        "id": "HzoSR9hMXvdh"
      },
      "source": [
        "dicionario_alunos = {\"nome\":\"Fulano\",\"idade\":22}"
      ],
      "execution_count": 18,
      "outputs": []
    },
    {
      "cell_type": "code",
      "metadata": {
        "colab": {
          "base_uri": "https://localhost:8080/",
          "height": 35
        },
        "id": "hvss-hlxX8rR",
        "outputId": "461679f9-d71b-4af6-d44e-8c39e20410f7"
      },
      "source": [
        "dicionario_alunos[\"nome\"]"
      ],
      "execution_count": 19,
      "outputs": [
        {
          "output_type": "execute_result",
          "data": {
            "application/vnd.google.colaboratory.intrinsic+json": {
              "type": "string"
            },
            "text/plain": [
              "'Fulano'"
            ]
          },
          "metadata": {
            "tags": []
          },
          "execution_count": 19
        }
      ]
    }
  ]
}