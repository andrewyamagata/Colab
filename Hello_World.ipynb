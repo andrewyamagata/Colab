{
  "nbformat": 4,
  "nbformat_minor": 0,
  "metadata": {
    "colab": {
      "name": "Hello World.ipynb",
      "provenance": [],
      "authorship_tag": "ABX9TyNRpoT10XG4trxln1spcyUI",
      "include_colab_link": true
    },
    "kernelspec": {
      "name": "python3",
      "display_name": "Python 3"
    }
  },
  "cells": [
    {
      "cell_type": "markdown",
      "metadata": {
        "id": "view-in-github",
        "colab_type": "text"
      },
      "source": [
        "<a href=\"https://colab.research.google.com/github/andrewyamagata/Colab/blob/main/Hello_World.ipynb\" target=\"_parent\"><img src=\"https://colab.research.google.com/assets/colab-badge.svg\" alt=\"Open In Colab\"/></a>"
      ]
    },
    {
      "cell_type": "code",
      "metadata": {
        "colab": {
          "base_uri": "https://localhost:8080/"
        },
        "id": "rbZ1nYKNLa8J",
        "outputId": "70ee72b2-8f2c-43cf-a9fa-297807421bca"
      },
      "source": [
        "print(\"Hello World!\")"
      ],
      "execution_count": null,
      "outputs": [
        {
          "output_type": "stream",
          "text": [
            "Hello World!\n"
          ],
          "name": "stdout"
        }
      ]
    },
    {
      "cell_type": "code",
      "metadata": {
        "colab": {
          "base_uri": "https://localhost:8080/"
        },
        "id": "SclimNBmSNzj",
        "outputId": "b88e82c8-d967-4c97-c739-ac6aa28ec0b6"
      },
      "source": [
        "disciplina=\"Formação Profissional em Computação\"\n",
        "qtdSemanas = 8\n",
        "nota1 = 9.0\n",
        "nota2 = 7.0\n",
        "media = (nota1+nota2)/2\n",
        "media"
      ],
      "execution_count": null,
      "outputs": [
        {
          "output_type": "execute_result",
          "data": {
            "text/plain": [
              "8.0"
            ]
          },
          "metadata": {
            "tags": []
          },
          "execution_count": 2
        }
      ]
    },
    {
      "cell_type": "code",
      "metadata": {
        "colab": {
          "base_uri": "https://localhost:8080/"
        },
        "id": "mAr26-nqSgQ5",
        "outputId": "29958834-bfcc-4810-d6e0-87342b237789"
      },
      "source": [
        "print(nota1)"
      ],
      "execution_count": null,
      "outputs": [
        {
          "output_type": "stream",
          "text": [
            "9.0\n"
          ],
          "name": "stdout"
        }
      ]
    },
    {
      "cell_type": "code",
      "metadata": {
        "id": "RxX6BJKySos5"
      },
      "source": [
        "def media_notas(nota1,nota2):\n",
        "  return (nota1+nota2)/2"
      ],
      "execution_count": null,
      "outputs": []
    },
    {
      "cell_type": "code",
      "metadata": {
        "colab": {
          "base_uri": "https://localhost:8080/"
        },
        "id": "o166iZtgSz8D",
        "outputId": "e7bc38d0-3dcc-4db5-ccaa-9773230cfc30"
      },
      "source": [
        "media_notas(4,5)"
      ],
      "execution_count": null,
      "outputs": [
        {
          "output_type": "execute_result",
          "data": {
            "text/plain": [
              "4.5"
            ]
          },
          "metadata": {
            "tags": []
          },
          "execution_count": 6
        }
      ]
    },
    {
      "cell_type": "code",
      "metadata": {
        "id": "_1lJmac4VmOq"
      },
      "source": [
        "def exercicio1():\n",
        "    palavra=input(\"Digite uma palavra: \")\n",
        "    lista=list(palavra)\n",
        "    segredo=\"\"\n",
        "    for x in lista:\n",
        "        if (x=='z'):segredo+='a'\n",
        "        elif (x=='Z'):segredo+='A'\n",
        "        else: segredo+=chr(ord(x)+1)\n",
        "    print(segredo)"
      ],
      "execution_count": null,
      "outputs": []
    },
    {
      "cell_type": "code",
      "metadata": {
        "colab": {
          "base_uri": "https://localhost:8080/"
        },
        "id": "0sOhuY8mWVoq",
        "outputId": "cc067571-54de-4cf7-95ce-d611479303fb"
      },
      "source": [
        "exercicio1()"
      ],
      "execution_count": null,
      "outputs": [
        {
          "output_type": "stream",
          "text": [
            "Digite uma palavra: Andrew\n",
            "Boesfx\n"
          ],
          "name": "stdout"
        }
      ]
    },
    {
      "cell_type": "code",
      "metadata": {
        "id": "55smJjm5Xl0y"
      },
      "source": [
        "lista_notas = [10,5,8]"
      ],
      "execution_count": null,
      "outputs": []
    },
    {
      "cell_type": "code",
      "metadata": {
        "colab": {
          "base_uri": "https://localhost:8080/"
        },
        "id": "ITdf5tOmXrdq",
        "outputId": "0e814c51-2dfa-424d-c720-148592befa50"
      },
      "source": [
        "lista_notas[0]"
      ],
      "execution_count": null,
      "outputs": [
        {
          "output_type": "execute_result",
          "data": {
            "text/plain": [
              "10"
            ]
          },
          "metadata": {
            "tags": []
          },
          "execution_count": 17
        }
      ]
    },
    {
      "cell_type": "code",
      "metadata": {
        "id": "HzoSR9hMXvdh"
      },
      "source": [
        "dicionario_alunos = {\"nome\":\"Fulano\",\"idade\":22}"
      ],
      "execution_count": null,
      "outputs": []
    },
    {
      "cell_type": "code",
      "metadata": {
        "colab": {
          "base_uri": "https://localhost:8080/",
          "height": 35
        },
        "id": "hvss-hlxX8rR",
        "outputId": "461679f9-d71b-4af6-d44e-8c39e20410f7"
      },
      "source": [
        "dicionario_alunos[\"nome\"]"
      ],
      "execution_count": null,
      "outputs": [
        {
          "output_type": "execute_result",
          "data": {
            "application/vnd.google.colaboratory.intrinsic+json": {
              "type": "string"
            },
            "text/plain": [
              "'Fulano'"
            ]
          },
          "metadata": {
            "tags": []
          },
          "execution_count": 19
        }
      ]
    },
    {
      "cell_type": "code",
      "metadata": {
        "colab": {
          "base_uri": "https://localhost:8080/",
          "height": 204
        },
        "id": "1_sco1f0YeLy",
        "outputId": "06e1c2bc-7472-4a0f-c4f8-7c4f2884957b"
      },
      "source": [
        "import pandas as pd\n",
        "uri =\"https://raw.githubusercontent.com/fivethirtyeight/data/master/alcohol-consumption/drinks.csv\"\n",
        "bebidas=pd.read_csv(uri, error_bad_lines=False,encoding='latin-1')\n",
        "bebidas.head()"
      ],
      "execution_count": 3,
      "outputs": [
        {
          "output_type": "execute_result",
          "data": {
            "text/html": [
              "<div>\n",
              "<style scoped>\n",
              "    .dataframe tbody tr th:only-of-type {\n",
              "        vertical-align: middle;\n",
              "    }\n",
              "\n",
              "    .dataframe tbody tr th {\n",
              "        vertical-align: top;\n",
              "    }\n",
              "\n",
              "    .dataframe thead th {\n",
              "        text-align: right;\n",
              "    }\n",
              "</style>\n",
              "<table border=\"1\" class=\"dataframe\">\n",
              "  <thead>\n",
              "    <tr style=\"text-align: right;\">\n",
              "      <th></th>\n",
              "      <th>country</th>\n",
              "      <th>beer_servings</th>\n",
              "      <th>spirit_servings</th>\n",
              "      <th>wine_servings</th>\n",
              "      <th>total_litres_of_pure_alcohol</th>\n",
              "    </tr>\n",
              "  </thead>\n",
              "  <tbody>\n",
              "    <tr>\n",
              "      <th>0</th>\n",
              "      <td>Afghanistan</td>\n",
              "      <td>0</td>\n",
              "      <td>0</td>\n",
              "      <td>0</td>\n",
              "      <td>0.0</td>\n",
              "    </tr>\n",
              "    <tr>\n",
              "      <th>1</th>\n",
              "      <td>Albania</td>\n",
              "      <td>89</td>\n",
              "      <td>132</td>\n",
              "      <td>54</td>\n",
              "      <td>4.9</td>\n",
              "    </tr>\n",
              "    <tr>\n",
              "      <th>2</th>\n",
              "      <td>Algeria</td>\n",
              "      <td>25</td>\n",
              "      <td>0</td>\n",
              "      <td>14</td>\n",
              "      <td>0.7</td>\n",
              "    </tr>\n",
              "    <tr>\n",
              "      <th>3</th>\n",
              "      <td>Andorra</td>\n",
              "      <td>245</td>\n",
              "      <td>138</td>\n",
              "      <td>312</td>\n",
              "      <td>12.4</td>\n",
              "    </tr>\n",
              "    <tr>\n",
              "      <th>4</th>\n",
              "      <td>Angola</td>\n",
              "      <td>217</td>\n",
              "      <td>57</td>\n",
              "      <td>45</td>\n",
              "      <td>5.9</td>\n",
              "    </tr>\n",
              "  </tbody>\n",
              "</table>\n",
              "</div>"
            ],
            "text/plain": [
              "       country  beer_servings  ...  wine_servings  total_litres_of_pure_alcohol\n",
              "0  Afghanistan              0  ...              0                           0.0\n",
              "1      Albania             89  ...             54                           4.9\n",
              "2      Algeria             25  ...             14                           0.7\n",
              "3      Andorra            245  ...            312                          12.4\n",
              "4       Angola            217  ...             45                           5.9\n",
              "\n",
              "[5 rows x 5 columns]"
            ]
          },
          "metadata": {
            "tags": []
          },
          "execution_count": 3
        }
      ]
    },
    {
      "cell_type": "code",
      "metadata": {
        "colab": {
          "base_uri": "https://localhost:8080/",
          "height": 204
        },
        "id": "zoR5eqfnZqQZ",
        "outputId": "0baf092f-1617-45dd-d128-53239eb9a8a3"
      },
      "source": [
        "bebidas.columns = [\"País\",\"Cervejas\",\"Destilados\",\"Vinhos\",\"Total\"]\n",
        "bebidas.head()"
      ],
      "execution_count": null,
      "outputs": [
        {
          "output_type": "execute_result",
          "data": {
            "text/html": [
              "<div>\n",
              "<style scoped>\n",
              "    .dataframe tbody tr th:only-of-type {\n",
              "        vertical-align: middle;\n",
              "    }\n",
              "\n",
              "    .dataframe tbody tr th {\n",
              "        vertical-align: top;\n",
              "    }\n",
              "\n",
              "    .dataframe thead th {\n",
              "        text-align: right;\n",
              "    }\n",
              "</style>\n",
              "<table border=\"1\" class=\"dataframe\">\n",
              "  <thead>\n",
              "    <tr style=\"text-align: right;\">\n",
              "      <th></th>\n",
              "      <th>País</th>\n",
              "      <th>Cervejas</th>\n",
              "      <th>Destilados</th>\n",
              "      <th>Vinhos</th>\n",
              "      <th>Total</th>\n",
              "    </tr>\n",
              "  </thead>\n",
              "  <tbody>\n",
              "    <tr>\n",
              "      <th>0</th>\n",
              "      <td>Afghanistan</td>\n",
              "      <td>0</td>\n",
              "      <td>0</td>\n",
              "      <td>0</td>\n",
              "      <td>0.0</td>\n",
              "    </tr>\n",
              "    <tr>\n",
              "      <th>1</th>\n",
              "      <td>Albania</td>\n",
              "      <td>89</td>\n",
              "      <td>132</td>\n",
              "      <td>54</td>\n",
              "      <td>4.9</td>\n",
              "    </tr>\n",
              "    <tr>\n",
              "      <th>2</th>\n",
              "      <td>Algeria</td>\n",
              "      <td>25</td>\n",
              "      <td>0</td>\n",
              "      <td>14</td>\n",
              "      <td>0.7</td>\n",
              "    </tr>\n",
              "    <tr>\n",
              "      <th>3</th>\n",
              "      <td>Andorra</td>\n",
              "      <td>245</td>\n",
              "      <td>138</td>\n",
              "      <td>312</td>\n",
              "      <td>12.4</td>\n",
              "    </tr>\n",
              "    <tr>\n",
              "      <th>4</th>\n",
              "      <td>Angola</td>\n",
              "      <td>217</td>\n",
              "      <td>57</td>\n",
              "      <td>45</td>\n",
              "      <td>5.9</td>\n",
              "    </tr>\n",
              "  </tbody>\n",
              "</table>\n",
              "</div>"
            ],
            "text/plain": [
              "          País  Cervejas  Destilados  Vinhos  Total\n",
              "0  Afghanistan         0           0       0    0.0\n",
              "1      Albania        89         132      54    4.9\n",
              "2      Algeria        25           0      14    0.7\n",
              "3      Andorra       245         138     312   12.4\n",
              "4       Angola       217          57      45    5.9"
            ]
          },
          "metadata": {
            "tags": []
          },
          "execution_count": 21
        }
      ]
    },
    {
      "cell_type": "code",
      "metadata": {
        "colab": {
          "base_uri": "https://localhost:8080/"
        },
        "id": "ebX2h5_ZuB3h",
        "outputId": "14f89205-a523-4d74-877d-783f17a37518"
      },
      "source": [
        "bebidas[\"Cervejas\"].mean()"
      ],
      "execution_count": null,
      "outputs": [
        {
          "output_type": "execute_result",
          "data": {
            "text/plain": [
              "106.16062176165804"
            ]
          },
          "metadata": {
            "tags": []
          },
          "execution_count": 22
        }
      ]
    },
    {
      "cell_type": "code",
      "metadata": {
        "colab": {
          "base_uri": "https://localhost:8080/"
        },
        "id": "ZfczeuHRuJFh",
        "outputId": "84521443-bbac-44e9-a5f2-b64f1b2cfb9f"
      },
      "source": [
        "bebidas[\"Cervejas\"].median()"
      ],
      "execution_count": null,
      "outputs": [
        {
          "output_type": "execute_result",
          "data": {
            "text/plain": [
              "76.0"
            ]
          },
          "metadata": {
            "tags": []
          },
          "execution_count": 23
        }
      ]
    },
    {
      "cell_type": "code",
      "metadata": {
        "colab": {
          "base_uri": "https://localhost:8080/"
        },
        "id": "kDux5_BxuZBp",
        "outputId": "d2e754ed-30bb-40b7-c82b-315d4aafbd98"
      },
      "source": [
        "bebidas[\"Cervejas\"].describe()"
      ],
      "execution_count": null,
      "outputs": [
        {
          "output_type": "execute_result",
          "data": {
            "text/plain": [
              "count    193.000000\n",
              "mean     106.160622\n",
              "std      101.143103\n",
              "min        0.000000\n",
              "25%       20.000000\n",
              "50%       76.000000\n",
              "75%      188.000000\n",
              "max      376.000000\n",
              "Name: Cervejas, dtype: float64"
            ]
          },
          "metadata": {
            "tags": []
          },
          "execution_count": 24
        }
      ]
    },
    {
      "cell_type": "code",
      "metadata": {
        "colab": {
          "base_uri": "https://localhost:8080/",
          "height": 297
        },
        "id": "fQyFmPgfuiVR",
        "outputId": "c50bd84d-ae4a-48ff-fa16-3108edef4198"
      },
      "source": [
        "bebidas.describe()"
      ],
      "execution_count": null,
      "outputs": [
        {
          "output_type": "execute_result",
          "data": {
            "text/html": [
              "<div>\n",
              "<style scoped>\n",
              "    .dataframe tbody tr th:only-of-type {\n",
              "        vertical-align: middle;\n",
              "    }\n",
              "\n",
              "    .dataframe tbody tr th {\n",
              "        vertical-align: top;\n",
              "    }\n",
              "\n",
              "    .dataframe thead th {\n",
              "        text-align: right;\n",
              "    }\n",
              "</style>\n",
              "<table border=\"1\" class=\"dataframe\">\n",
              "  <thead>\n",
              "    <tr style=\"text-align: right;\">\n",
              "      <th></th>\n",
              "      <th>Cervejas</th>\n",
              "      <th>Destilados</th>\n",
              "      <th>Vinhos</th>\n",
              "      <th>Total</th>\n",
              "    </tr>\n",
              "  </thead>\n",
              "  <tbody>\n",
              "    <tr>\n",
              "      <th>count</th>\n",
              "      <td>193.000000</td>\n",
              "      <td>193.000000</td>\n",
              "      <td>193.000000</td>\n",
              "      <td>193.000000</td>\n",
              "    </tr>\n",
              "    <tr>\n",
              "      <th>mean</th>\n",
              "      <td>106.160622</td>\n",
              "      <td>80.994819</td>\n",
              "      <td>49.450777</td>\n",
              "      <td>4.717098</td>\n",
              "    </tr>\n",
              "    <tr>\n",
              "      <th>std</th>\n",
              "      <td>101.143103</td>\n",
              "      <td>88.284312</td>\n",
              "      <td>79.697598</td>\n",
              "      <td>3.773298</td>\n",
              "    </tr>\n",
              "    <tr>\n",
              "      <th>min</th>\n",
              "      <td>0.000000</td>\n",
              "      <td>0.000000</td>\n",
              "      <td>0.000000</td>\n",
              "      <td>0.000000</td>\n",
              "    </tr>\n",
              "    <tr>\n",
              "      <th>25%</th>\n",
              "      <td>20.000000</td>\n",
              "      <td>4.000000</td>\n",
              "      <td>1.000000</td>\n",
              "      <td>1.300000</td>\n",
              "    </tr>\n",
              "    <tr>\n",
              "      <th>50%</th>\n",
              "      <td>76.000000</td>\n",
              "      <td>56.000000</td>\n",
              "      <td>8.000000</td>\n",
              "      <td>4.200000</td>\n",
              "    </tr>\n",
              "    <tr>\n",
              "      <th>75%</th>\n",
              "      <td>188.000000</td>\n",
              "      <td>128.000000</td>\n",
              "      <td>59.000000</td>\n",
              "      <td>7.200000</td>\n",
              "    </tr>\n",
              "    <tr>\n",
              "      <th>max</th>\n",
              "      <td>376.000000</td>\n",
              "      <td>438.000000</td>\n",
              "      <td>370.000000</td>\n",
              "      <td>14.400000</td>\n",
              "    </tr>\n",
              "  </tbody>\n",
              "</table>\n",
              "</div>"
            ],
            "text/plain": [
              "         Cervejas  Destilados      Vinhos       Total\n",
              "count  193.000000  193.000000  193.000000  193.000000\n",
              "mean   106.160622   80.994819   49.450777    4.717098\n",
              "std    101.143103   88.284312   79.697598    3.773298\n",
              "min      0.000000    0.000000    0.000000    0.000000\n",
              "25%     20.000000    4.000000    1.000000    1.300000\n",
              "50%     76.000000   56.000000    8.000000    4.200000\n",
              "75%    188.000000  128.000000   59.000000    7.200000\n",
              "max    376.000000  438.000000  370.000000   14.400000"
            ]
          },
          "metadata": {
            "tags": []
          },
          "execution_count": 25
        }
      ]
    },
    {
      "cell_type": "code",
      "metadata": {
        "colab": {
          "base_uri": "https://localhost:8080/",
          "height": 283
        },
        "id": "13cj4APyuv6i",
        "outputId": "5af23abb-ff1c-4d34-9438-aebf8de521cd"
      },
      "source": [
        "bebidas.plot(kind='hist')"
      ],
      "execution_count": null,
      "outputs": [
        {
          "output_type": "execute_result",
          "data": {
            "text/plain": [
              "<matplotlib.axes._subplots.AxesSubplot at 0x7f98b9ca8450>"
            ]
          },
          "metadata": {
            "tags": []
          },
          "execution_count": 26
        },
        {
          "output_type": "display_data",
          "data": {
            "image/png": "[encoded data removed]",
            "text/plain": [
              "<Figure size 432x288 with 1 Axes>"
            ]
          },
          "metadata": {
            "tags": [],
            "needs_background": "light"
          }
        }
      ]
    },
    {
      "cell_type": "code",
      "metadata": {
        "colab": {
          "base_uri": "https://localhost:8080/",
          "height": 282
        },
        "id": "zIusTQZEu3Jj",
        "outputId": "9401fd1a-b5b9-4b45-a05f-48db2a65a8a0"
      },
      "source": [
        "bebidas.median().plot()"
      ],
      "execution_count": null,
      "outputs": [
        {
          "output_type": "execute_result",
          "data": {
            "text/plain": [
              "<matplotlib.axes._subplots.AxesSubplot at 0x7f98b97e1510>"
            ]
          },
          "metadata": {
            "tags": []
          },
          "execution_count": 27
        },
        {
          "output_type": "display_data",
          "data": {
            "image/png": "[encoded data removed]",
            "text/plain": [
              "<Figure size 432x288 with 1 Axes>"
            ]
          },
          "metadata": {
            "tags": [],
            "needs_background": "light"
          }
        }
      ]
    },
    {
      "cell_type": "code",
      "metadata": {
        "colab": {
          "base_uri": "https://localhost:8080/",
          "height": 283
        },
        "id": "cvMVFarEK4cC",
        "outputId": "33c16b10-c88c-4428-fb17-ef23867414a4"
      },
      "source": [
        "bebidas.median().plot()"
      ],
      "execution_count": 4,
      "outputs": [
        {
          "output_type": "execute_result",
          "data": {
            "text/plain": [
              "<matplotlib.axes._subplots.AxesSubplot at 0x7f832839bc50>"
            ]
          },
          "metadata": {
            "tags": []
          },
          "execution_count": 4
        },
        {
          "output_type": "display_data",
          "data": {
            "image/png": "[encoded data removed]",
            "text/plain": [
              "<Figure size 432x288 with 1 Axes>"
            ]
          },
          "metadata": {
            "tags": [],
            "needs_background": "light"
          }
        }
      ]
    },
    {
      "cell_type": "code",
      "metadata": {
        "colab": {
          "base_uri": "https://localhost:8080/",
          "height": 283
        },
        "id": "TuwFnxbbLZaX",
        "outputId": "d2bff38f-d22a-4d70-f590-3534758565f2"
      },
      "source": [
        "bebidas.mean().plot()"
      ],
      "execution_count": 5,
      "outputs": [
        {
          "output_type": "execute_result",
          "data": {
            "text/plain": [
              "<matplotlib.axes._subplots.AxesSubplot at 0x7f83236d1710>"
            ]
          },
          "metadata": {
            "tags": []
          },
          "execution_count": 5
        },
        {
          "output_type": "display_data",
          "data": {
            "image/png": "[encoded data removed]",
            "text/plain": [
              "<Figure size 432x288 with 1 Axes>"
            ]
          },
          "metadata": {
            "tags": [],
            "needs_background": "light"
          }
        }
      ]
    },
    {
      "cell_type": "code",
      "metadata": {
        "id": "6e4buWwkLwGv"
      },
      "source": [
        "bebidas.columns = [\"País\",\"Cerveja\",\"Destilado\",\"Vinho\",\"Total\"]"
      ],
      "execution_count": 7,
      "outputs": []
    },
    {
      "cell_type": "code",
      "metadata": {
        "colab": {
          "base_uri": "https://localhost:8080/",
          "height": 204
        },
        "id": "xvICvs63MB2I",
        "outputId": "1637de82-a13f-492b-fa2a-1af48d394b4c"
      },
      "source": [
        "bebidas.head()"
      ],
      "execution_count": 8,
      "outputs": [
        {
          "output_type": "execute_result",
          "data": {
            "text/html": [
              "<div>\n",
              "<style scoped>\n",
              "    .dataframe tbody tr th:only-of-type {\n",
              "        vertical-align: middle;\n",
              "    }\n",
              "\n",
              "    .dataframe tbody tr th {\n",
              "        vertical-align: top;\n",
              "    }\n",
              "\n",
              "    .dataframe thead th {\n",
              "        text-align: right;\n",
              "    }\n",
              "</style>\n",
              "<table border=\"1\" class=\"dataframe\">\n",
              "  <thead>\n",
              "    <tr style=\"text-align: right;\">\n",
              "      <th></th>\n",
              "      <th>País</th>\n",
              "      <th>Cerveja</th>\n",
              "      <th>Destilado</th>\n",
              "      <th>Vinho</th>\n",
              "      <th>Total</th>\n",
              "    </tr>\n",
              "  </thead>\n",
              "  <tbody>\n",
              "    <tr>\n",
              "      <th>0</th>\n",
              "      <td>Afghanistan</td>\n",
              "      <td>0</td>\n",
              "      <td>0</td>\n",
              "      <td>0</td>\n",
              "      <td>0.0</td>\n",
              "    </tr>\n",
              "    <tr>\n",
              "      <th>1</th>\n",
              "      <td>Albania</td>\n",
              "      <td>89</td>\n",
              "      <td>132</td>\n",
              "      <td>54</td>\n",
              "      <td>4.9</td>\n",
              "    </tr>\n",
              "    <tr>\n",
              "      <th>2</th>\n",
              "      <td>Algeria</td>\n",
              "      <td>25</td>\n",
              "      <td>0</td>\n",
              "      <td>14</td>\n",
              "      <td>0.7</td>\n",
              "    </tr>\n",
              "    <tr>\n",
              "      <th>3</th>\n",
              "      <td>Andorra</td>\n",
              "      <td>245</td>\n",
              "      <td>138</td>\n",
              "      <td>312</td>\n",
              "      <td>12.4</td>\n",
              "    </tr>\n",
              "    <tr>\n",
              "      <th>4</th>\n",
              "      <td>Angola</td>\n",
              "      <td>217</td>\n",
              "      <td>57</td>\n",
              "      <td>45</td>\n",
              "      <td>5.9</td>\n",
              "    </tr>\n",
              "  </tbody>\n",
              "</table>\n",
              "</div>"
            ],
            "text/plain": [
              "          País  Cerveja  Destilado  Vinho  Total\n",
              "0  Afghanistan        0          0      0    0.0\n",
              "1      Albania       89        132     54    4.9\n",
              "2      Algeria       25          0     14    0.7\n",
              "3      Andorra      245        138    312   12.4\n",
              "4       Angola      217         57     45    5.9"
            ]
          },
          "metadata": {
            "tags": []
          },
          "execution_count": 8
        }
      ]
    },
    {
      "cell_type": "code",
      "metadata": {
        "id": "f00wwqg7MHvm",
        "outputId": "2a8e935b-57d9-40e3-b4fc-34c28f2e2160",
        "colab": {
          "base_uri": "https://localhost:8080/",
          "height": 359
        }
      },
      "source": [
        "bebidas.head(10)"
      ],
      "execution_count": 9,
      "outputs": [
        {
          "output_type": "execute_result",
          "data": {
            "text/html": [
              "<div>\n",
              "<style scoped>\n",
              "    .dataframe tbody tr th:only-of-type {\n",
              "        vertical-align: middle;\n",
              "    }\n",
              "\n",
              "    .dataframe tbody tr th {\n",
              "        vertical-align: top;\n",
              "    }\n",
              "\n",
              "    .dataframe thead th {\n",
              "        text-align: right;\n",
              "    }\n",
              "</style>\n",
              "<table border=\"1\" class=\"dataframe\">\n",
              "  <thead>\n",
              "    <tr style=\"text-align: right;\">\n",
              "      <th></th>\n",
              "      <th>País</th>\n",
              "      <th>Cerveja</th>\n",
              "      <th>Destilado</th>\n",
              "      <th>Vinho</th>\n",
              "      <th>Total</th>\n",
              "    </tr>\n",
              "  </thead>\n",
              "  <tbody>\n",
              "    <tr>\n",
              "      <th>0</th>\n",
              "      <td>Afghanistan</td>\n",
              "      <td>0</td>\n",
              "      <td>0</td>\n",
              "      <td>0</td>\n",
              "      <td>0.0</td>\n",
              "    </tr>\n",
              "    <tr>\n",
              "      <th>1</th>\n",
              "      <td>Albania</td>\n",
              "      <td>89</td>\n",
              "      <td>132</td>\n",
              "      <td>54</td>\n",
              "      <td>4.9</td>\n",
              "    </tr>\n",
              "    <tr>\n",
              "      <th>2</th>\n",
              "      <td>Algeria</td>\n",
              "      <td>25</td>\n",
              "      <td>0</td>\n",
              "      <td>14</td>\n",
              "      <td>0.7</td>\n",
              "    </tr>\n",
              "    <tr>\n",
              "      <th>3</th>\n",
              "      <td>Andorra</td>\n",
              "      <td>245</td>\n",
              "      <td>138</td>\n",
              "      <td>312</td>\n",
              "      <td>12.4</td>\n",
              "    </tr>\n",
              "    <tr>\n",
              "      <th>4</th>\n",
              "      <td>Angola</td>\n",
              "      <td>217</td>\n",
              "      <td>57</td>\n",
              "      <td>45</td>\n",
              "      <td>5.9</td>\n",
              "    </tr>\n",
              "    <tr>\n",
              "      <th>5</th>\n",
              "      <td>Antigua &amp; Barbuda</td>\n",
              "      <td>102</td>\n",
              "      <td>128</td>\n",
              "      <td>45</td>\n",
              "      <td>4.9</td>\n",
              "    </tr>\n",
              "    <tr>\n",
              "      <th>6</th>\n",
              "      <td>Argentina</td>\n",
              "      <td>193</td>\n",
              "      <td>25</td>\n",
              "      <td>221</td>\n",
              "      <td>8.3</td>\n",
              "    </tr>\n",
              "    <tr>\n",
              "      <th>7</th>\n",
              "      <td>Armenia</td>\n",
              "      <td>21</td>\n",
              "      <td>179</td>\n",
              "      <td>11</td>\n",
              "      <td>3.8</td>\n",
              "    </tr>\n",
              "    <tr>\n",
              "      <th>8</th>\n",
              "      <td>Australia</td>\n",
              "      <td>261</td>\n",
              "      <td>72</td>\n",
              "      <td>212</td>\n",
              "      <td>10.4</td>\n",
              "    </tr>\n",
              "    <tr>\n",
              "      <th>9</th>\n",
              "      <td>Austria</td>\n",
              "      <td>279</td>\n",
              "      <td>75</td>\n",
              "      <td>191</td>\n",
              "      <td>9.7</td>\n",
              "    </tr>\n",
              "  </tbody>\n",
              "</table>\n",
              "</div>"
            ],
            "text/plain": [
              "                País  Cerveja  Destilado  Vinho  Total\n",
              "0        Afghanistan        0          0      0    0.0\n",
              "1            Albania       89        132     54    4.9\n",
              "2            Algeria       25          0     14    0.7\n",
              "3            Andorra      245        138    312   12.4\n",
              "4             Angola      217         57     45    5.9\n",
              "5  Antigua & Barbuda      102        128     45    4.9\n",
              "6          Argentina      193         25    221    8.3\n",
              "7            Armenia       21        179     11    3.8\n",
              "8          Australia      261         72    212   10.4\n",
              "9            Austria      279         75    191    9.7"
            ]
          },
          "metadata": {
            "tags": []
          },
          "execution_count": 9
        }
      ]
    }
  ]
}